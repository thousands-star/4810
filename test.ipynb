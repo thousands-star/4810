{
 "cells": [
  {
   "cell_type": "code",
   "execution_count": 1,
   "metadata": {},
   "outputs": [],
   "source": [
    "from config_reader import ConfigReader\n",
    "\n"
   ]
  },
  {
   "cell_type": "code",
   "execution_count": 2,
   "metadata": {},
   "outputs": [
    {
     "name": "stdout",
     "output_type": "stream",
     "text": [
      "[TELEGRAM]\n",
      "token = \"7368549794:AAG5QqG5zM-PwhHze7F09wsltwV8z34Lv3A\"\n",
      "api_id = \"26493375\"\n",
      "api_hash = \"f0615ce015c8e92091a5513a58d8b712\"\n",
      "interval = 5\n",
      "alert_frequency = 15\n",
      "\n",
      "[THINGSPEAK]\n",
      "read_api_keys = FR97G4Z3JFM9LK4Z,DT76O8OQ5F0ZWLXW,CJGXBTKXSZDJHPU2,XG4JT6TJMMCCNK5G\n",
      "write_api_key = NVF9Q3QGYMYRLCKJ\n",
      "channel_ids = 2623642,2615870,2623647,2623708\n",
      "\n",
      "[DUSTBIN_1]\n",
      "depth = 45.6\n",
      "tag = \"Dustbin 1\"\n",
      "\n",
      "[DUSTBIN_2]\n",
      "depth = 50.3\n",
      "tag = \"Dustbin 2\"\n",
      "\n",
      "[DUSTBIN_3]\n",
      "depth = 48.9\n",
      "tag = \"Dustbin 3\"\n",
      "\n",
      "[DUSTBIN_4]\n",
      "depth = 55.0\n",
      "tag = \"Dustbin 4\"\n",
      "\n"
     ]
    }
   ],
   "source": [
    "configReader = ConfigReader()\n",
    "configReader.print_params()"
   ]
  },
  {
   "cell_type": "code",
   "execution_count": 3,
   "metadata": {},
   "outputs": [
    {
     "data": {
      "text/plain": [
       "[{'depth': 45.6, 'tag': '\"Dustbin 1\"'},\n",
       " {'depth': 50.3, 'tag': '\"Dustbin 2\"'},\n",
       " {'depth': 48.9, 'tag': '\"Dustbin 3\"'},\n",
       " {'depth': 55.0, 'tag': '\"Dustbin 4\"'}]"
      ]
     },
     "execution_count": 3,
     "metadata": {},
     "output_type": "execute_result"
    }
   ],
   "source": [
    "configReader.get_dustbin_info()"
   ]
  },
  {
   "cell_type": "code",
   "execution_count": 5,
   "metadata": {},
   "outputs": [
    {
     "data": {
      "text/plain": [
       "(['FR97G4Z3JFM9LK4Z',\n",
       "  'DT76O8OQ5F0ZWLXW',\n",
       "  'CJGXBTKXSZDJHPU2',\n",
       "  'XG4JT6TJMMCCNK5G'],\n",
       " 'NVF9Q3QGYMYRLCKJ',\n",
       " ['2623642', '2615870', '2623647', '2623708'])"
      ]
     },
     "execution_count": 5,
     "metadata": {},
     "output_type": "execute_result"
    }
   ],
   "source": [
    "configReader.get_thingspeak_info()"
   ]
  },
  {
   "cell_type": "code",
   "execution_count": 8,
   "metadata": {},
   "outputs": [
    {
     "name": "stdout",
     "output_type": "stream",
     "text": [
      "NVF9Q3QGYMYRLCKJ\n"
     ]
    }
   ],
   "source": [
    "print(configReader.get_param(\"THINGSPEAK\", \"write_api_key\") )"
   ]
  },
  {
   "cell_type": "code",
   "execution_count": 10,
   "metadata": {},
   "outputs": [
    {
     "data": {
      "text/plain": [
       "15"
      ]
     },
     "execution_count": 10,
     "metadata": {},
     "output_type": "execute_result"
    }
   ],
   "source": [
    "int(configReader.get_param('TELEGRAM', 'alert_frequency'))"
   ]
  },
  {
   "cell_type": "code",
   "execution_count": 13,
   "metadata": {},
   "outputs": [],
   "source": [
    "from dustbin import Dustbin\n",
    "read_api_keys, write_api_key, channel_ids = configReader.get_thingspeak_info()\n",
    "dustbins_info = configReader.get_dustbin_info()\n",
    "dustbin_list = []\n",
    "# Prepare the dustbin objects\n",
    "for i, dustbin_info in enumerate(dustbins_info):\n",
    "    url = f\"https://api.thingspeak.com/channels/{channel_ids[i]}/fields/1/last.json?api_key={read_api_keys[i]}&status=true\"\n",
    "    depth = dustbin_info['depth']\n",
    "    tag = dustbin_info['tag']\n",
    "    dustbin_list.append(Dustbin(depth, tag, url))"
   ]
  },
  {
   "cell_type": "code",
   "execution_count": null,
   "metadata": {},
   "outputs": [],
   "source": []
  }
 ],
 "metadata": {
  "kernelspec": {
   "display_name": "venv",
   "language": "python",
   "name": "python3"
  },
  "language_info": {
   "codemirror_mode": {
    "name": "ipython",
    "version": 3
   },
   "file_extension": ".py",
   "mimetype": "text/x-python",
   "name": "python",
   "nbconvert_exporter": "python",
   "pygments_lexer": "ipython3",
   "version": "3.10.11"
  }
 },
 "nbformat": 4,
 "nbformat_minor": 2
}
