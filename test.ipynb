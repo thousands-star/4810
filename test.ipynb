{
 "cells": [
  {
   "cell_type": "code",
   "execution_count": 1,
   "metadata": {},
   "outputs": [],
   "source": [
    "from config_reader import ConfigReader\n",
    "\n"
   ]
  },
  {
   "cell_type": "code",
   "execution_count": 4,
   "metadata": {},
   "outputs": [
    {
     "name": "stdout",
     "output_type": "stream",
     "text": [
      "[TELEGRAM]\n",
      "token = \"7368549794:AAG5QqG5zM-PwhHze7F09wsltwV8z34Lv3A\"\n",
      "api_id = \"26493375\"\n",
      "api_hash = \"f0615ce015c8e92091a5513a58d8b712\"\n",
      "\n",
      "[THINGSPEAK]\n",
      "write_api_key = \"NVF9Q3QGYMYRLCKJ\"\n",
      "\n"
     ]
    }
   ],
   "source": [
    "configReader = ConfigReader()\n",
    "configReader.print_params()\n",
    "configReader.get_param('TELEGRAM', 'TOKEN')"
   ]
  },
  {
   "cell_type": "code",
   "execution_count": null,
   "metadata": {},
   "outputs": [],
   "source": []
  }
 ],
 "metadata": {
  "kernelspec": {
   "display_name": "venv",
   "language": "python",
   "name": "python3"
  },
  "language_info": {
   "codemirror_mode": {
    "name": "ipython",
    "version": 3
   },
   "file_extension": ".py",
   "mimetype": "text/x-python",
   "name": "python",
   "nbconvert_exporter": "python",
   "pygments_lexer": "ipython3",
   "version": "3.10.11"
  }
 },
 "nbformat": 4,
 "nbformat_minor": 2
}
